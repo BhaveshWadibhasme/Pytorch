{
  "nbformat": 4,
  "nbformat_minor": 0,
  "metadata": {
    "colab": {
      "name": "tensor_torch.ipynb",
      "provenance": [],
      "collapsed_sections": [],
      "authorship_tag": "ABX9TyN49GjgNbpn2krY3WtKtHgh",
      "include_colab_link": true
    },
    "kernelspec": {
      "name": "python3",
      "display_name": "Python 3"
    }
  },
  "cells": [
    {
      "cell_type": "markdown",
      "metadata": {
        "id": "view-in-github",
        "colab_type": "text"
      },
      "source": [
        "<a href=\"https://colab.research.google.com/github/BhaveshWadibhasme/Pytorch/blob/master/tensor_torch.ipynb\" target=\"_parent\"><img src=\"https://colab.research.google.com/assets/colab-badge.svg\" alt=\"Open In Colab\"/></a>"
      ]
    },
    {
      "cell_type": "code",
      "metadata": {
        "id": "xw1VO0zIIx_l",
        "colab_type": "code",
        "colab": {
          "base_uri": "https://localhost:8080/",
          "height": 68
        },
        "outputId": "2b1cc70c-945d-4948-9381-06ffb035edce"
      },
      "source": [
        "#installation\n",
        "!pip install torch\n"
      ],
      "execution_count": 2,
      "outputs": [
        {
          "output_type": "stream",
          "text": [
            "Requirement already satisfied: torch in /usr/local/lib/python3.6/dist-packages (1.5.0+cu101)\n",
            "Requirement already satisfied: future in /usr/local/lib/python3.6/dist-packages (from torch) (0.16.0)\n",
            "Requirement already satisfied: numpy in /usr/local/lib/python3.6/dist-packages (from torch) (1.18.3)\n"
          ],
          "name": "stdout"
        }
      ]
    },
    {
      "cell_type": "code",
      "metadata": {
        "id": "8s7MEQdXJiwn",
        "colab_type": "code",
        "colab": {
          "base_uri": "https://localhost:8080/",
          "height": 68
        },
        "outputId": "70dd6ea8-42cf-48a8-d5b8-82292253fd6f"
      },
      "source": [
        "#--------------Create_simple_tensors_in_pytorch-------------------\n",
        "import torch\n",
        "import pandas as pd\n",
        "import numpy as np\n",
        "var1 = torch.tensor([1,2,3,4,5,6])\n",
        "var2 = torch.tensor([1.2,2.1,3.1,4.1,5.1])\n",
        "print(\"My first tensor is:{}\".format(var1))\n",
        "print()\n",
        "print(\"Second tensor is:{}\".format(var2))"
      ],
      "execution_count": 27,
      "outputs": [
        {
          "output_type": "stream",
          "text": [
            "My first tensor is:tensor([1, 2, 3, 4, 5, 6])\n",
            "\n",
            "Second tensor is:tensor([1.2000, 2.1000, 3.1000, 4.1000, 5.1000])\n"
          ],
          "name": "stdout"
        }
      ]
    },
    {
      "cell_type": "code",
      "metadata": {
        "id": "L5GEaxU-NGij",
        "colab_type": "code",
        "colab": {
          "base_uri": "https://localhost:8080/",
          "height": 68
        },
        "outputId": "75bc81a9-433f-4ea5-f366-f50e97acc375"
      },
      "source": [
        "#-------------Find_out_datatype_of_tensor---------------\n",
        "print(\"The datatype of var1 tensor is:{}\".format(var1.dtype))\n",
        "print()\n",
        "print(\"The datatype of var2 tensor is:{}\".format(var2.dtype))"
      ],
      "execution_count": 8,
      "outputs": [
        {
          "output_type": "stream",
          "text": [
            "The datatype of var1 tensor is:torch.int64\n",
            "\n",
            "The datatype of var2 tensor is:torch.float32\n"
          ],
          "name": "stdout"
        }
      ]
    },
    {
      "cell_type": "code",
      "metadata": {
        "id": "jWikN2NsNxLO",
        "colab_type": "code",
        "colab": {
          "base_uri": "https://localhost:8080/",
          "height": 51
        },
        "outputId": "7843f875-dafb-4a08-d54c-d4f48aae014f"
      },
      "source": [
        "#-------------Create_a_tensor_and_change_it's_datatype--------------\n",
        "var3 = torch.FloatTensor([1,2,3,4,5])\n",
        "var4 = torch.IntTensor([1.1,2.1,3.1,4.1,5.1])\n",
        "\n",
        "print(\"The changed var3 is:{}\".format(var3))\n",
        "print(\"The changed var4 is:{}\".format(var4))"
      ],
      "execution_count": 11,
      "outputs": [
        {
          "output_type": "stream",
          "text": [
            "The changed var3 is:tensor([1., 2., 3., 4., 5.])\n",
            "The changed var4 is:tensor([1, 2, 3, 4, 5], dtype=torch.int32)\n"
          ],
          "name": "stdout"
        }
      ]
    },
    {
      "cell_type": "code",
      "metadata": {
        "id": "Tch-2uzLPBQF",
        "colab_type": "code",
        "colab": {
          "base_uri": "https://localhost:8080/",
          "height": 34
        },
        "outputId": "5fc45d65-a88c-4ad0-e599-e6040dfc1f4a"
      },
      "source": [
        "#--------------Find_the_size_of_the_tensor----------------\n",
        "var5 = torch.tensor([1,2,3,4,5])\n",
        "print(\"The size of tensor is:{}\".format(var5.size()))"
      ],
      "execution_count": 21,
      "outputs": [
        {
          "output_type": "stream",
          "text": [
            "The size of tensor is:torch.Size([5])\n"
          ],
          "name": "stdout"
        }
      ]
    },
    {
      "cell_type": "code",
      "metadata": {
        "id": "V1JEUKAqOv_S",
        "colab_type": "code",
        "colab": {
          "base_uri": "https://localhost:8080/",
          "height": 102
        },
        "outputId": "ce454e74-72d8-4910-db38-7831a92ee443"
      },
      "source": [
        "#------------Accessing_tensors--------------------\n",
        "var6 =torch.tensor([i for i in range(0,10)])\n",
        "print(\"The var6 is:{}\".format(var6))\n",
        "print(\"The type of tensor:{}\".format(var6.dtype))\n",
        "print(\"The size of tensor:{}\".format(var6.size()))\n",
        "print(\"Access first 5 elements from tensor:{}\".format(var6[0:5]))\n",
        "print(\"Access first 4:7 elements from tensor:{}\".format(var6[4:7]))"
      ],
      "execution_count": 26,
      "outputs": [
        {
          "output_type": "stream",
          "text": [
            "The var6 is:tensor([0, 1, 2, 3, 4, 5, 6, 7, 8, 9])\n",
            "The type of tensor:torch.int64\n",
            "The size of tensor:torch.Size([10])\n",
            "Access first 5 elements from tensor:tensor([0, 1, 2, 3, 4])\n",
            "Access first 4:7 elements from tensor:tensor([4, 5, 6])\n"
          ],
          "name": "stdout"
        }
      ]
    },
    {
      "cell_type": "code",
      "metadata": {
        "id": "MCueI8DURAdm",
        "colab_type": "code",
        "colab": {
          "base_uri": "https://localhost:8080/",
          "height": 68
        },
        "outputId": "d9deafd7-081d-46c6-f97c-9a9e5d300cdb"
      },
      "source": [
        "#----------Declare_and_tensor_first_convert_to_numpy_and_then_convert_to_original_torch_tensor------------\n",
        "var7 = torch.tensor([i for i in range(0,10)])\n",
        "print(\"The var7 is:{}\".format(var7))\n",
        "var8 = var7.numpy()\n",
        "print(\"The converted numpy tensor is:{}\".format(var8))\n",
        "var9 = torch.from_numpy(var8)\n",
        "print(\"The converted torch_tensor is:{}\".format(var9))"
      ],
      "execution_count": 36,
      "outputs": [
        {
          "output_type": "stream",
          "text": [
            "The var7 is:tensor([0, 1, 2, 3, 4, 5, 6, 7, 8, 9])\n",
            "The converted numpy tensor is:[0 1 2 3 4 5 6 7 8 9]\n",
            "The converted torch_tensor is:tensor([0, 1, 2, 3, 4, 5, 6, 7, 8, 9])\n"
          ],
          "name": "stdout"
        }
      ]
    },
    {
      "cell_type": "code",
      "metadata": {
        "id": "bMf95cLFSiCC",
        "colab_type": "code",
        "colab": {}
      },
      "source": [
        ""
      ],
      "execution_count": 0,
      "outputs": []
    }
  ]
}