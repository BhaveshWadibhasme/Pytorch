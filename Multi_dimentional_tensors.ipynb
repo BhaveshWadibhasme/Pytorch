{
  "nbformat": 4,
  "nbformat_minor": 0,
  "metadata": {
    "colab": {
      "name": "Multi-dimentional_tensors.ipynb",
      "provenance": [],
      "collapsed_sections": [],
      "authorship_tag": "ABX9TyOlbiyaMexp8Znh53f3eD0E",
      "include_colab_link": true
    },
    "kernelspec": {
      "name": "python3",
      "display_name": "Python 3"
    }
  },
  "cells": [
    {
      "cell_type": "markdown",
      "metadata": {
        "id": "view-in-github",
        "colab_type": "text"
      },
      "source": [
        "<a href=\"https://colab.research.google.com/github/BhaveshWadibhasme/Pytorch/blob/master/Multi_dimentional_tensors.ipynb\" target=\"_parent\"><img src=\"https://colab.research.google.com/assets/colab-badge.svg\" alt=\"Open In Colab\"/></a>"
      ]
    },
    {
      "cell_type": "code",
      "metadata": {
        "id": "ogSG8tbrht6u",
        "colab_type": "code",
        "colab": {}
      },
      "source": [
        "import pandas as pd\n",
        "import numpy as np\n",
        "import torch\n",
        "import warnings\n",
        "warnings.filterwarnings('ignore')"
      ],
      "execution_count": 0,
      "outputs": []
    },
    {
      "cell_type": "code",
      "metadata": {
        "id": "K8FcAs5yHQjO",
        "colab_type": "code",
        "outputId": "b7e31ce7-4df0-498c-9e43-cbb9084bf58b",
        "colab": {
          "base_uri": "https://localhost:8080/",
          "height": 34
        }
      },
      "source": [
        "#---------------Define_tensor-----------------------\n",
        "ten_one = torch.tensor([1,2,3,4,])\n",
        "print(\"This is one dimentional_tensor:{}\".format(ten_one))"
      ],
      "execution_count": 0,
      "outputs": [
        {
          "output_type": "stream",
          "text": [
            "This is one dimentional_tensor:tensor([1, 2, 3, 4])\n"
          ],
          "name": "stdout"
        }
      ]
    },
    {
      "cell_type": "code",
      "metadata": {
        "id": "P9thNzmwHfMd",
        "colab_type": "code",
        "outputId": "d7283077-a70d-491d-bb2d-f065a6195934",
        "colab": {
          "base_uri": "https://localhost:8080/",
          "height": 119
        }
      },
      "source": [
        "#-------------Create_two_dimentional_tensor-------------------\n",
        "ten_two = torch.range(0,9)\n",
        "ten_two = ten_two.view(5,2)\n",
        "print(\"The is two dimentional_tensor:\\n{}\".format(ten_two))"
      ],
      "execution_count": 0,
      "outputs": [
        {
          "output_type": "stream",
          "text": [
            "The is two dimentional_tensor:\n",
            "tensor([[0., 1.],\n",
            "        [2., 3.],\n",
            "        [4., 5.],\n",
            "        [6., 7.],\n",
            "        [8., 9.]])\n"
          ],
          "name": "stdout"
        }
      ]
    },
    {
      "cell_type": "code",
      "metadata": {
        "id": "OKOmoEQUH5z_",
        "colab_type": "code",
        "outputId": "9b473366-9598-4071-b51f-8e53b7e457e9",
        "colab": {
          "base_uri": "https://localhost:8080/",
          "height": 221
        }
      },
      "source": [
        "#-----------Create_multidimentional_tensor------------------------\n",
        "ten_three = torch.range(1,27)\n",
        "ten_three = ten_three.view(3,3,3)\n",
        "print(\"This is three dimentional_tensorL:\\n{}\".format(ten_three))"
      ],
      "execution_count": 0,
      "outputs": [
        {
          "output_type": "stream",
          "text": [
            "This is three dimentional_tensorL:\n",
            "tensor([[[ 1.,  2.,  3.],\n",
            "         [ 4.,  5.,  6.],\n",
            "         [ 7.,  8.,  9.]],\n",
            "\n",
            "        [[10., 11., 12.],\n",
            "         [13., 14., 15.],\n",
            "         [16., 17., 18.]],\n",
            "\n",
            "        [[19., 20., 21.],\n",
            "         [22., 23., 24.],\n",
            "         [25., 26., 27.]]])\n"
          ],
          "name": "stdout"
        }
      ]
    },
    {
      "cell_type": "code",
      "metadata": {
        "id": "qZpJqkYyH8wC",
        "colab_type": "code",
        "outputId": "6887fb1c-8423-4f64-8964-b648f814bc7b",
        "colab": {
          "base_uri": "https://localhost:8080/",
          "height": 68
        }
      },
      "source": [
        "#-------------Findout_dimention_of_tensor----------------\n",
        "print(\"The dimention of tensor ten_one is :{}\".format(ten_one.dim()))\n",
        "print(\"The dimention of tensor ten_two is :{}\".format(ten_two.dim()))\n",
        "print(\"The dimention of tensor ten_three is:{}\".format(ten_three.dim()))\n"
      ],
      "execution_count": 0,
      "outputs": [
        {
          "output_type": "stream",
          "text": [
            "The dimention of tensor ten_one is :1\n",
            "The dimention of tensor ten_two is :2\n",
            "The dimention of tensor ten_three is:3\n"
          ],
          "name": "stdout"
        }
      ]
    },
    {
      "cell_type": "code",
      "metadata": {
        "id": "jJXDzyZRPvq6",
        "colab_type": "code",
        "colab": {
          "base_uri": "https://localhost:8080/",
          "height": 204
        },
        "outputId": "4c991de7-33b2-4cf2-e377-3ce948b7d660"
      },
      "source": [
        "ten_three"
      ],
      "execution_count": 31,
      "outputs": [
        {
          "output_type": "execute_result",
          "data": {
            "text/plain": [
              "tensor([[[ 1.,  2.,  3.],\n",
              "         [ 4.,  5.,  6.],\n",
              "         [ 7.,  8.,  9.]],\n",
              "\n",
              "        [[10., 11., 12.],\n",
              "         [13., 14., 15.],\n",
              "         [16., 17., 18.]],\n",
              "\n",
              "        [[19., 20., 21.],\n",
              "         [22., 23., 24.],\n",
              "         [25., 26., 27.]]])"
            ]
          },
          "metadata": {
            "tags": []
          },
          "execution_count": 31
        }
      ]
    },
    {
      "cell_type": "code",
      "metadata": {
        "id": "7rFP96_wJzji",
        "colab_type": "code",
        "colab": {
          "base_uri": "https://localhost:8080/",
          "height": 68
        },
        "outputId": "ec39b444-c6dc-4f12-d371-3b5d380e6417"
      },
      "source": [
        "#---------Slice_first_layer-------------\n",
        "ten_four = ten_three[0,:,:]\n",
        "print(ten_four)"
      ],
      "execution_count": 35,
      "outputs": [
        {
          "output_type": "stream",
          "text": [
            "tensor([[1., 2., 3.],\n",
            "        [4., 5., 6.],\n",
            "        [7., 8., 9.]])\n"
          ],
          "name": "stdout"
        }
      ]
    },
    {
      "cell_type": "code",
      "metadata": {
        "id": "gp-OE9YjQAAr",
        "colab_type": "code",
        "colab": {
          "base_uri": "https://localhost:8080/",
          "height": 68
        },
        "outputId": "511bdb1e-675c-4972-97ca-fef223cf92e6"
      },
      "source": [
        "#----------Slice_second_layer------------\n",
        "ten_five = ten_three[1,:,:]\n",
        "print(ten_four)"
      ],
      "execution_count": 34,
      "outputs": [
        {
          "output_type": "stream",
          "text": [
            "tensor([[10., 11., 12.],\n",
            "        [13., 14., 15.],\n",
            "        [16., 17., 18.]])\n"
          ],
          "name": "stdout"
        }
      ]
    },
    {
      "cell_type": "code",
      "metadata": {
        "id": "QdB1StU_QMgY",
        "colab_type": "code",
        "colab": {
          "base_uri": "https://localhost:8080/",
          "height": 68
        },
        "outputId": "1d65d06d-bd06-43b3-f4a2-a563de7b90f0"
      },
      "source": [
        "#------------------Slice_third_layer------------\n",
        "ten_six = ten_three[2,:,:]\n",
        "print(ten_six)"
      ],
      "execution_count": 33,
      "outputs": [
        {
          "output_type": "stream",
          "text": [
            "tensor([[19., 20., 21.],\n",
            "        [22., 23., 24.],\n",
            "        [25., 26., 27.]])\n"
          ],
          "name": "stdout"
        }
      ]
    },
    {
      "cell_type": "code",
      "metadata": {
        "id": "vriIm9HPSfcC",
        "colab_type": "code",
        "colab": {
          "base_uri": "https://localhost:8080/",
          "height": 204
        },
        "outputId": "5431f906-baf4-4fd3-c738-dd74575f6892"
      },
      "source": [
        "ten_three"
      ],
      "execution_count": 42,
      "outputs": [
        {
          "output_type": "execute_result",
          "data": {
            "text/plain": [
              "tensor([[[ 1.,  2.,  3.],\n",
              "         [ 4.,  5.,  6.],\n",
              "         [ 7.,  8.,  9.]],\n",
              "\n",
              "        [[10., 11., 12.],\n",
              "         [13., 14., 15.],\n",
              "         [16., 17., 18.]],\n",
              "\n",
              "        [[19., 20., 21.],\n",
              "         [22., 23., 24.],\n",
              "         [25., 26., 27.]]])"
            ]
          },
          "metadata": {
            "tags": []
          },
          "execution_count": 42
        }
      ]
    },
    {
      "cell_type": "code",
      "metadata": {
        "id": "RCMzREwmQXrt",
        "colab_type": "code",
        "colab": {
          "base_uri": "https://localhost:8080/",
          "height": 34
        },
        "outputId": "79c2c7d9-8489-4d43-abde-1df8d0b8b781"
      },
      "source": [
        "#---------------Slice_first_column_of_first_slice_from_above_tensor---------------\n",
        "[\"slice_index\", 'index_of_elements_to_extract','column_name']\n",
        "ten_seven = ten_three[0,0:3,0]\n",
        "print(ten_seven)"
      ],
      "execution_count": 41,
      "outputs": [
        {
          "output_type": "stream",
          "text": [
            "tensor([1., 4., 7.])\n"
          ],
          "name": "stdout"
        }
      ]
    },
    {
      "cell_type": "code",
      "metadata": {
        "id": "DTIp-HBYQjsy",
        "colab_type": "code",
        "colab": {}
      },
      "source": [
        ""
      ],
      "execution_count": 0,
      "outputs": []
    },
    {
      "cell_type": "code",
      "metadata": {
        "id": "KLMtzfAtQlWA",
        "colab_type": "code",
        "colab": {}
      },
      "source": [
        ""
      ],
      "execution_count": 0,
      "outputs": []
    },
    {
      "cell_type": "code",
      "metadata": {
        "id": "60NP8imPQ08Q",
        "colab_type": "code",
        "colab": {}
      },
      "source": [
        ""
      ],
      "execution_count": 0,
      "outputs": []
    }
  ]
}