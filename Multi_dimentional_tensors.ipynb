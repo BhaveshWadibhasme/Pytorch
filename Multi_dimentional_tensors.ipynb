{
  "nbformat": 4,
  "nbformat_minor": 0,
  "metadata": {
    "colab": {
      "name": "Multi-dimentional_tensors.ipynb",
      "provenance": [],
      "collapsed_sections": [],
      "authorship_tag": "ABX9TyOTaaSjbjySPxu+ELKEr+kn",
      "include_colab_link": true
    },
    "kernelspec": {
      "name": "python3",
      "display_name": "Python 3"
    }
  },
  "cells": [
    {
      "cell_type": "markdown",
      "metadata": {
        "id": "view-in-github",
        "colab_type": "text"
      },
      "source": [
        "<a href=\"https://colab.research.google.com/github/BhaveshWadibhasme/Pytorch/blob/master/Multi_dimentional_tensors.ipynb\" target=\"_parent\"><img src=\"https://colab.research.google.com/assets/colab-badge.svg\" alt=\"Open In Colab\"/></a>"
      ]
    },
    {
      "cell_type": "code",
      "metadata": {
        "id": "ogSG8tbrht6u",
        "colab_type": "code",
        "colab": {}
      },
      "source": [
        "import pandas as pd\n",
        "import numpy as np\n",
        "import torch\n",
        "import warnings\n",
        "warnings.filterwarnings('ignore')"
      ],
      "execution_count": 0,
      "outputs": []
    },
    {
      "cell_type": "code",
      "metadata": {
        "id": "K8FcAs5yHQjO",
        "colab_type": "code",
        "colab": {
          "base_uri": "https://localhost:8080/",
          "height": 34
        },
        "outputId": "b7e31ce7-4df0-498c-9e43-cbb9084bf58b"
      },
      "source": [
        "#---------------Define_tensor-----------------------\n",
        "ten_one = torch.tensor([1,2,3,4,])\n",
        "print(\"This is one dimentional_tensor:{}\".format(ten_one))"
      ],
      "execution_count": 27,
      "outputs": [
        {
          "output_type": "stream",
          "text": [
            "This is one dimentional_tensor:tensor([1, 2, 3, 4])\n"
          ],
          "name": "stdout"
        }
      ]
    },
    {
      "cell_type": "code",
      "metadata": {
        "id": "P9thNzmwHfMd",
        "colab_type": "code",
        "colab": {
          "base_uri": "https://localhost:8080/",
          "height": 119
        },
        "outputId": "d7283077-a70d-491d-bb2d-f065a6195934"
      },
      "source": [
        "#-------------Create_two_dimentional_tensor-------------------\n",
        "ten_two = torch.range(0,9)\n",
        "ten_two = ten_two.view(5,2)\n",
        "print(\"The is two dimentional_tensor:\\n{}\".format(ten_two))"
      ],
      "execution_count": 28,
      "outputs": [
        {
          "output_type": "stream",
          "text": [
            "The is two dimentional_tensor:\n",
            "tensor([[0., 1.],\n",
            "        [2., 3.],\n",
            "        [4., 5.],\n",
            "        [6., 7.],\n",
            "        [8., 9.]])\n"
          ],
          "name": "stdout"
        }
      ]
    },
    {
      "cell_type": "code",
      "metadata": {
        "id": "OKOmoEQUH5z_",
        "colab_type": "code",
        "colab": {
          "base_uri": "https://localhost:8080/",
          "height": 221
        },
        "outputId": "9b473366-9598-4071-b51f-8e53b7e457e9"
      },
      "source": [
        "#-----------Create_multidimentional_tensor------------------------\n",
        "ten_three = torch.range(1,27)\n",
        "ten_three = ten_three.view(3,3,3)\n",
        "print(\"This is three dimentional_tensorL:\\n{}\".format(ten_three))"
      ],
      "execution_count": 29,
      "outputs": [
        {
          "output_type": "stream",
          "text": [
            "This is three dimentional_tensorL:\n",
            "tensor([[[ 1.,  2.,  3.],\n",
            "         [ 4.,  5.,  6.],\n",
            "         [ 7.,  8.,  9.]],\n",
            "\n",
            "        [[10., 11., 12.],\n",
            "         [13., 14., 15.],\n",
            "         [16., 17., 18.]],\n",
            "\n",
            "        [[19., 20., 21.],\n",
            "         [22., 23., 24.],\n",
            "         [25., 26., 27.]]])\n"
          ],
          "name": "stdout"
        }
      ]
    },
    {
      "cell_type": "code",
      "metadata": {
        "id": "qZpJqkYyH8wC",
        "colab_type": "code",
        "colab": {
          "base_uri": "https://localhost:8080/",
          "height": 68
        },
        "outputId": "6887fb1c-8423-4f64-8964-b648f814bc7b"
      },
      "source": [
        "#-------------Findout_dimention_of_tensor----------------\n",
        "print(\"The dimention of tensor ten_one is :{}\".format(ten_one.dim()))\n",
        "print(\"The dimention of tensor ten_two is :{}\".format(ten_two.dim()))\n",
        "print(\"The dimention of tensor ten_three is:{}\".format(ten_three.dim()))\n"
      ],
      "execution_count": 30,
      "outputs": [
        {
          "output_type": "stream",
          "text": [
            "The dimention of tensor ten_one is :1\n",
            "The dimention of tensor ten_two is :2\n",
            "The dimention of tensor ten_three is:3\n"
          ],
          "name": "stdout"
        }
      ]
    },
    {
      "cell_type": "code",
      "metadata": {
        "id": "7rFP96_wJzji",
        "colab_type": "code",
        "colab": {}
      },
      "source": [
        ""
      ],
      "execution_count": 0,
      "outputs": []
    }
  ]
}