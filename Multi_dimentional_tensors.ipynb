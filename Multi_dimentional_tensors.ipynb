{
  "nbformat": 4,
  "nbformat_minor": 0,
  "metadata": {
    "colab": {
      "name": "Multi-dimentional_tensors.ipynb",
      "provenance": [],
      "collapsed_sections": [],
      "authorship_tag": "ABX9TyPBxj0pFHPjJL7xxNPS1BCs",
      "include_colab_link": true
    },
    "kernelspec": {
      "name": "python3",
      "display_name": "Python 3"
    }
  },
  "cells": [
    {
      "cell_type": "markdown",
      "metadata": {
        "id": "view-in-github",
        "colab_type": "text"
      },
      "source": [
        "<a href=\"https://colab.research.google.com/github/BhaveshWadibhasme/Pytorch/blob/master/Multi_dimentional_tensors.ipynb\" target=\"_parent\"><img src=\"https://colab.research.google.com/assets/colab-badge.svg\" alt=\"Open In Colab\"/></a>"
      ]
    },
    {
      "cell_type": "code",
      "metadata": {
        "id": "ogSG8tbrht6u",
        "colab_type": "code",
        "colab": {}
      },
      "source": [
        "import pandas as pd\n",
        "import numpy as np\n",
        "import torch\n",
        "import warnings\n",
        "warnings.filterwarnings('ignore')"
      ],
      "execution_count": 0,
      "outputs": []
    },
    {
      "cell_type": "code",
      "metadata": {
        "id": "K8FcAs5yHQjO",
        "colab_type": "code",
        "colab": {
          "base_uri": "https://localhost:8080/",
          "height": 34
        },
        "outputId": "49de2e37-93a6-4013-bc3f-922ddd305bb5"
      },
      "source": [
        "#---------------Define_tensor-----------------------\n",
        "ten_one = torch.tensor([1,2,3,4,])\n",
        "print(\"This is one dimmentional_tensor:{}\".format(ten_one))"
      ],
      "execution_count": 4,
      "outputs": [
        {
          "output_type": "stream",
          "text": [
            "This is one dimmentional_tensor:tensor([1, 2, 3, 4])\n"
          ],
          "name": "stdout"
        }
      ]
    },
    {
      "cell_type": "code",
      "metadata": {
        "id": "P9thNzmwHfMd",
        "colab_type": "code",
        "colab": {
          "base_uri": "https://localhost:8080/",
          "height": 119
        },
        "outputId": "ceb159c7-da0e-407d-89f4-bab82ef8795f"
      },
      "source": [
        "#-------------Create_two_dimentional_tensor-------------------\n",
        "ten_two = torch.range(0,9)\n",
        "ten_two = ten_two.view(5,2)\n",
        "print(\"The is two dimmentional_tensor:\\n{}\".format(ten_two))"
      ],
      "execution_count": 19,
      "outputs": [
        {
          "output_type": "stream",
          "text": [
            "The is two dimmentional_tensor:\n",
            "tensor([[0., 1.],\n",
            "        [2., 3.],\n",
            "        [4., 5.],\n",
            "        [6., 7.],\n",
            "        [8., 9.]])\n"
          ],
          "name": "stdout"
        }
      ]
    },
    {
      "cell_type": "code",
      "metadata": {
        "id": "OKOmoEQUH5z_",
        "colab_type": "code",
        "colab": {
          "base_uri": "https://localhost:8080/",
          "height": 221
        },
        "outputId": "3159c964-9aeb-4720-d04e-cdf29f61def9"
      },
      "source": [
        "#-----------Create_multidimentional_tensor------------------------\n",
        "ten_three = torch.range(1,27)\n",
        "ten_three = ten_three.view(3,3,3)\n",
        "print(\"This is three dimmentional_tensorL:\\n{}\".format(ten_three))"
      ],
      "execution_count": 22,
      "outputs": [
        {
          "output_type": "stream",
          "text": [
            "This is three dimmentional_tensorL:\n",
            "tensor([[[ 1.,  2.,  3.],\n",
            "         [ 4.,  5.,  6.],\n",
            "         [ 7.,  8.,  9.]],\n",
            "\n",
            "        [[10., 11., 12.],\n",
            "         [13., 14., 15.],\n",
            "         [16., 17., 18.]],\n",
            "\n",
            "        [[19., 20., 21.],\n",
            "         [22., 23., 24.],\n",
            "         [25., 26., 27.]]])\n"
          ],
          "name": "stdout"
        }
      ]
    },
    {
      "cell_type": "code",
      "metadata": {
        "id": "qZpJqkYyH8wC",
        "colab_type": "code",
        "colab": {
          "base_uri": "https://localhost:8080/",
          "height": 68
        },
        "outputId": "93008c38-73ad-4837-851d-87dacefd8ae3"
      },
      "source": [
        "#-------------Findout_dimention_of_tensor----------------\n",
        "print(\"The dimmention of tensor ten_one is :{}\".format(ten_one.dim()))\n",
        "print(\"The dimmention of tensor ten_two is :{}\".format(ten_two.dim()))\n",
        "print(\"The dimmention of tensor ten_three is:{}\".format(ten_three.dim()))\n"
      ],
      "execution_count": 25,
      "outputs": [
        {
          "output_type": "stream",
          "text": [
            "The dimmention of tensor ten_one is :1\n",
            "The dimmention of tensor ten_two is :2\n",
            "The dimmention of tensor ten_three is:3\n"
          ],
          "name": "stdout"
        }
      ]
    },
    {
      "cell_type": "code",
      "metadata": {
        "id": "7rFP96_wJzji",
        "colab_type": "code",
        "colab": {}
      },
      "source": [
        ""
      ],
      "execution_count": 0,
      "outputs": []
    }
  ]
}