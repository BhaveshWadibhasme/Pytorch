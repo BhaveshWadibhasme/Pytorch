{
  "nbformat": 4,
  "nbformat_minor": 0,
  "metadata": {
    "colab": {
      "name": "Multi-dimentional_tensors.ipynb",
      "provenance": [],
      "collapsed_sections": [],
      "authorship_tag": "ABX9TyMpNqqzDI5+b0U2nke223oj",
      "include_colab_link": true
    },
    "kernelspec": {
      "name": "python3",
      "display_name": "Python 3"
    }
  },
  "cells": [
    {
      "cell_type": "markdown",
      "metadata": {
        "id": "view-in-github",
        "colab_type": "text"
      },
      "source": [
        "<a href=\"https://colab.research.google.com/github/BhaveshWadibhasme/Pytorch/blob/master/Multi_dimentional_tensors.ipynb\" target=\"_parent\"><img src=\"https://colab.research.google.com/assets/colab-badge.svg\" alt=\"Open In Colab\"/></a>"
      ]
    },
    {
      "cell_type": "code",
      "metadata": {
        "id": "ogSG8tbrht6u",
        "colab_type": "code",
        "colab": {}
      },
      "source": [
        "import pandas as pd\n",
        "import numpy as np\n",
        "import torch\n",
        "import warnings\n",
        "warnings.filterwarnings('ignore')"
      ],
      "execution_count": 0,
      "outputs": []
    },
    {
      "cell_type": "code",
      "metadata": {
        "id": "K8FcAs5yHQjO",
        "colab_type": "code",
        "outputId": "49b1ad03-fefd-4623-bad8-e2860ee3df48",
        "colab": {
          "base_uri": "https://localhost:8080/",
          "height": 34
        }
      },
      "source": [
        "#---------------Define_tensor-----------------------\n",
        "ten_one = torch.tensor([1,2,3,4,])\n",
        "print(\"This is one dimentional_tensor:{}\".format(ten_one))"
      ],
      "execution_count": 3,
      "outputs": [
        {
          "output_type": "stream",
          "text": [
            "This is one dimentional_tensor:tensor([1, 2, 3, 4])\n"
          ],
          "name": "stdout"
        }
      ]
    },
    {
      "cell_type": "code",
      "metadata": {
        "id": "P9thNzmwHfMd",
        "colab_type": "code",
        "outputId": "2f64da9f-95cf-4aed-8925-218a457d15e1",
        "colab": {
          "base_uri": "https://localhost:8080/",
          "height": 119
        }
      },
      "source": [
        "#-------------Create_two_dimentional_tensor-------------------\n",
        "ten_two = torch.range(0,9)\n",
        "ten_two = ten_two.view(5,2)\n",
        "print(\"The is two dimentional_tensor:\\n{}\".format(ten_two))"
      ],
      "execution_count": 4,
      "outputs": [
        {
          "output_type": "stream",
          "text": [
            "The is two dimentional_tensor:\n",
            "tensor([[0., 1.],\n",
            "        [2., 3.],\n",
            "        [4., 5.],\n",
            "        [6., 7.],\n",
            "        [8., 9.]])\n"
          ],
          "name": "stdout"
        }
      ]
    },
    {
      "cell_type": "code",
      "metadata": {
        "id": "OKOmoEQUH5z_",
        "colab_type": "code",
        "outputId": "4226f121-92a9-42d5-8aad-a2e407928fd2",
        "colab": {
          "base_uri": "https://localhost:8080/",
          "height": 221
        }
      },
      "source": [
        "#-----------Create_multidimentional_tensor------------------------\n",
        "ten_three = torch.range(1,27)\n",
        "ten_three = ten_three.view(3,3,3)\n",
        "print(\"This is three dimentional_tensorL:\\n{}\".format(ten_three))"
      ],
      "execution_count": 5,
      "outputs": [
        {
          "output_type": "stream",
          "text": [
            "This is three dimentional_tensorL:\n",
            "tensor([[[ 1.,  2.,  3.],\n",
            "         [ 4.,  5.,  6.],\n",
            "         [ 7.,  8.,  9.]],\n",
            "\n",
            "        [[10., 11., 12.],\n",
            "         [13., 14., 15.],\n",
            "         [16., 17., 18.]],\n",
            "\n",
            "        [[19., 20., 21.],\n",
            "         [22., 23., 24.],\n",
            "         [25., 26., 27.]]])\n"
          ],
          "name": "stdout"
        }
      ]
    },
    {
      "cell_type": "code",
      "metadata": {
        "id": "qZpJqkYyH8wC",
        "colab_type": "code",
        "outputId": "b1d00a30-7c50-4ce5-bb50-c87a38ac7864",
        "colab": {
          "base_uri": "https://localhost:8080/",
          "height": 68
        }
      },
      "source": [
        "#-------------Findout_dimention_of_tensor----------------\n",
        "print(\"The dimention of tensor ten_one is :{}\".format(ten_one.dim()))\n",
        "print(\"The dimention of tensor ten_two is :{}\".format(ten_two.dim()))\n",
        "print(\"The dimention of tensor ten_three is:{}\".format(ten_three.dim()))\n"
      ],
      "execution_count": 6,
      "outputs": [
        {
          "output_type": "stream",
          "text": [
            "The dimention of tensor ten_one is :1\n",
            "The dimention of tensor ten_two is :2\n",
            "The dimention of tensor ten_three is:3\n"
          ],
          "name": "stdout"
        }
      ]
    },
    {
      "cell_type": "code",
      "metadata": {
        "id": "HhlRZSOrODeY",
        "colab_type": "code",
        "colab": {
          "base_uri": "https://localhost:8080/",
          "height": 102
        },
        "outputId": "50f97991-e5ab-4b5f-ea80-0508e00fbafe"
      },
      "source": [
        "#----------------Create_2D_tensor_manually------------------\n",
        "two_dim_tensor = torch.tensor([[1,2],[3,4],[5,5]])\n",
        "print(two_dim_tensor)\n",
        "print()\n",
        "print(\"The dimention of above tensor is:{}\".format(two_dim_tensor.dim()))"
      ],
      "execution_count": 27,
      "outputs": [
        {
          "output_type": "stream",
          "text": [
            "tensor([[1, 2],\n",
            "        [3, 4],\n",
            "        [5, 5]])\n",
            "\n",
            "The dimention of above tensor is:2\n"
          ],
          "name": "stdout"
        }
      ]
    },
    {
      "cell_type": "code",
      "metadata": {
        "id": "jJXDzyZRPvq6",
        "colab_type": "code",
        "outputId": "0a00dc6b-7675-4727-e7b2-c21ef3bc30b9",
        "colab": {
          "base_uri": "https://localhost:8080/",
          "height": 204
        }
      },
      "source": [
        "ten_three"
      ],
      "execution_count": 7,
      "outputs": [
        {
          "output_type": "execute_result",
          "data": {
            "text/plain": [
              "tensor([[[ 1.,  2.,  3.],\n",
              "         [ 4.,  5.,  6.],\n",
              "         [ 7.,  8.,  9.]],\n",
              "\n",
              "        [[10., 11., 12.],\n",
              "         [13., 14., 15.],\n",
              "         [16., 17., 18.]],\n",
              "\n",
              "        [[19., 20., 21.],\n",
              "         [22., 23., 24.],\n",
              "         [25., 26., 27.]]])"
            ]
          },
          "metadata": {
            "tags": []
          },
          "execution_count": 7
        }
      ]
    },
    {
      "cell_type": "code",
      "metadata": {
        "id": "7rFP96_wJzji",
        "colab_type": "code",
        "outputId": "5021b03f-e49e-48bd-f0c9-da505d01e612",
        "colab": {
          "base_uri": "https://localhost:8080/",
          "height": 68
        }
      },
      "source": [
        "#---------Slice_first_layer-------------\n",
        "ten_four = ten_three[0,:,:]\n",
        "print(ten_four)"
      ],
      "execution_count": 8,
      "outputs": [
        {
          "output_type": "stream",
          "text": [
            "tensor([[1., 2., 3.],\n",
            "        [4., 5., 6.],\n",
            "        [7., 8., 9.]])\n"
          ],
          "name": "stdout"
        }
      ]
    },
    {
      "cell_type": "code",
      "metadata": {
        "id": "gp-OE9YjQAAr",
        "colab_type": "code",
        "outputId": "e41c588f-520e-4340-b220-fca2b309da45",
        "colab": {
          "base_uri": "https://localhost:8080/",
          "height": 68
        }
      },
      "source": [
        "#----------Slice_second_layer------------\n",
        "ten_five = ten_three[1,:,:]\n",
        "print(ten_four)"
      ],
      "execution_count": 9,
      "outputs": [
        {
          "output_type": "stream",
          "text": [
            "tensor([[1., 2., 3.],\n",
            "        [4., 5., 6.],\n",
            "        [7., 8., 9.]])\n"
          ],
          "name": "stdout"
        }
      ]
    },
    {
      "cell_type": "code",
      "metadata": {
        "id": "QdB1StU_QMgY",
        "colab_type": "code",
        "outputId": "52f7d56a-f103-42d2-934c-e5f33a75c63e",
        "colab": {
          "base_uri": "https://localhost:8080/",
          "height": 68
        }
      },
      "source": [
        "#------------------Slice_third_layer------------\n",
        "ten_six = ten_three[2,:,:]\n",
        "print(ten_six)"
      ],
      "execution_count": 10,
      "outputs": [
        {
          "output_type": "stream",
          "text": [
            "tensor([[19., 20., 21.],\n",
            "        [22., 23., 24.],\n",
            "        [25., 26., 27.]])\n"
          ],
          "name": "stdout"
        }
      ]
    },
    {
      "cell_type": "code",
      "metadata": {
        "id": "vriIm9HPSfcC",
        "colab_type": "code",
        "outputId": "c2e6c57c-bb61-4c87-f4b1-af6048d69e4d",
        "colab": {
          "base_uri": "https://localhost:8080/",
          "height": 204
        }
      },
      "source": [
        "ten_three"
      ],
      "execution_count": 11,
      "outputs": [
        {
          "output_type": "execute_result",
          "data": {
            "text/plain": [
              "tensor([[[ 1.,  2.,  3.],\n",
              "         [ 4.,  5.,  6.],\n",
              "         [ 7.,  8.,  9.]],\n",
              "\n",
              "        [[10., 11., 12.],\n",
              "         [13., 14., 15.],\n",
              "         [16., 17., 18.]],\n",
              "\n",
              "        [[19., 20., 21.],\n",
              "         [22., 23., 24.],\n",
              "         [25., 26., 27.]]])"
            ]
          },
          "metadata": {
            "tags": []
          },
          "execution_count": 11
        }
      ]
    },
    {
      "cell_type": "code",
      "metadata": {
        "id": "RCMzREwmQXrt",
        "colab_type": "code",
        "outputId": "dac6e438-ea8c-41f6-9257-132ed6e1d01c",
        "colab": {
          "base_uri": "https://localhost:8080/",
          "height": 34
        }
      },
      "source": [
        "#---------------Slice_first_column_of_first_slice_from_above_tensor---------------\n",
        "[\"slice_index\", 'index_of_elements_to_extract','column_name']\n",
        "ten_seven = ten_three[0,0:3,0]\n",
        "print(ten_seven)"
      ],
      "execution_count": 12,
      "outputs": [
        {
          "output_type": "stream",
          "text": [
            "tensor([1., 4., 7.])\n"
          ],
          "name": "stdout"
        }
      ]
    },
    {
      "cell_type": "markdown",
      "metadata": {
        "id": "0Dea6PFXJiu2",
        "colab_type": "text"
      },
      "source": [
        "## **Matrix** **Multiplication:**\n",
        "\n",
        "The necessary conditon for multiplication of matrix is the number of columns of first matrix need to be equal to number of column of second matrix.\n",
        " \n",
        "\n",
        "\n",
        "\n",
        "\n",
        "\n",
        "\n"
      ]
    },
    {
      "cell_type": "code",
      "metadata": {
        "id": "KLMtzfAtQlWA",
        "colab_type": "code",
        "colab": {
          "base_uri": "https://localhost:8080/",
          "height": 221
        },
        "outputId": "4a0cfe3d-1acf-4d3d-ace4-80d032015723"
      },
      "source": [
        "#----------Declare_two_matric_and_perform_their_multiplication--------------\n",
        "matrix_A  = torch.range(1,6).view(3,2)\n",
        "matrix_B  = torch.range(1,6).view(2,3)\n",
        "print(\"The matrix A is:\\n{}\".format(matrix_A),\"\\nThe matrix B is:\\n{}\".format(matrix_B))\n",
        "print()\n",
        "print(\"The multiplication of matrix_A and matrix_B is: \\n{}\".format(torch.matmul(matrix_A,matrix_B)))"
      ],
      "execution_count": 21,
      "outputs": [
        {
          "output_type": "stream",
          "text": [
            "The matrix A is:\n",
            "tensor([[1., 2.],\n",
            "        [3., 4.],\n",
            "        [5., 6.]]) \n",
            "The matrix B is:\n",
            "tensor([[1., 2., 3.],\n",
            "        [4., 5., 6.]])\n",
            "\n",
            "The multiplication of matrix_A and matrix_B is: \n",
            "tensor([[ 9., 12., 15.],\n",
            "        [19., 26., 33.],\n",
            "        [29., 40., 51.]])\n"
          ],
          "name": "stdout"
        }
      ]
    },
    {
      "cell_type": "code",
      "metadata": {
        "id": "y1epGXfwMOf-",
        "colab_type": "code",
        "colab": {
          "base_uri": "https://localhost:8080/",
          "height": 85
        },
        "outputId": "be3c0fb2-1957-4c00-809c-22289deca974"
      },
      "source": [
        "#----------------Alternative_to_matmul_function----------------------------\n",
        "new_matrix = matrix_A @ matrix_B\n",
        "print(\"The result of matrix multiplication is:\\n{}\".format(new_matrix))"
      ],
      "execution_count": 28,
      "outputs": [
        {
          "output_type": "stream",
          "text": [
            "The result of matrix multiplication is:\n",
            "tensor([[ 9., 12., 15.],\n",
            "        [19., 26., 33.],\n",
            "        [29., 40., 51.]])\n"
          ],
          "name": "stdout"
        }
      ]
    },
    {
      "cell_type": "code",
      "metadata": {
        "id": "kWXHnfkbN5YB",
        "colab_type": "code",
        "colab": {}
      },
      "source": [
        ""
      ],
      "execution_count": 0,
      "outputs": []
    }
  ]
}