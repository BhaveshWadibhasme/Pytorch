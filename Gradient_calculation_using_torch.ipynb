{
  "nbformat": 4,
  "nbformat_minor": 0,
  "metadata": {
    "colab": {
      "name": "Gradient_calculation_using_torch.ipynb",
      "provenance": [],
      "collapsed_sections": [],
      "authorship_tag": "ABX9TyOJm3+56oGn3qJpU3RRWC12",
      "include_colab_link": true
    },
    "kernelspec": {
      "name": "python3",
      "display_name": "Python 3"
    }
  },
  "cells": [
    {
      "cell_type": "markdown",
      "metadata": {
        "id": "view-in-github",
        "colab_type": "text"
      },
      "source": [
        "<a href=\"https://colab.research.google.com/github/BhaveshWadibhasme/Pytorch/blob/master/Gradient_calculation_using_torch.ipynb\" target=\"_parent\"><img src=\"https://colab.research.google.com/assets/colab-badge.svg\" alt=\"Open In Colab\"/></a>"
      ]
    },
    {
      "cell_type": "code",
      "metadata": {
        "id": "_zVyQ5KjQqaj",
        "colab_type": "code",
        "colab": {}
      },
      "source": [
        "import pandas as pd\n",
        "import numpy as np\n",
        "import warnings\n",
        "warnings.filterwarnings('ignore')\n",
        "import torch"
      ],
      "execution_count": 0,
      "outputs": []
    },
    {
      "cell_type": "code",
      "metadata": {
        "id": "e1RFSgpgQ6nx",
        "colab_type": "code",
        "colab": {
          "base_uri": "https://localhost:8080/",
          "height": 51
        },
        "outputId": "8ee4bcdb-2522-4239-f93f-45280b0c088c"
      },
      "source": [
        "#------------Declare_two_variables_of_function--------------------\n",
        "x = torch.tensor(1.0,requires_grad=True)\n",
        "y = torch.tensor(2.0,requires_grad=True)\n",
        "print(\"The variable x is:{}\".format(x))\n",
        "print(\"The variable y is:{}\".format(y))"
      ],
      "execution_count": 32,
      "outputs": [
        {
          "output_type": "stream",
          "text": [
            "The variable x is:1.0\n",
            "The variable y is:2.0\n"
          ],
          "name": "stdout"
        }
      ]
    },
    {
      "cell_type": "code",
      "metadata": {
        "id": "klZO9YVRRiJ2",
        "colab_type": "code",
        "colab": {
          "base_uri": "https://localhost:8080/",
          "height": 34
        },
        "outputId": "92102769-0e2b-430e-a1c0-cc9f0fb76fc6"
      },
      "source": [
        "#-----------Define_function--------------------\n",
        "fun_z = x**2 + y**3\n",
        "print(\"The function_value at x=1 and y=2 is:{}\".format(fun_z))"
      ],
      "execution_count": 33,
      "outputs": [
        {
          "output_type": "stream",
          "text": [
            "The function_value at x=1 and y=2 is:9.0\n"
          ],
          "name": "stdout"
        }
      ]
    },
    {
      "cell_type": "code",
      "metadata": {
        "id": "IzxZ7LQuR8K1",
        "colab_type": "code",
        "colab": {}
      },
      "source": [
        "#----------Calculate_derivative_of_above_funtion--------------\n",
        "fun_z.backward()"
      ],
      "execution_count": 0,
      "outputs": []
    },
    {
      "cell_type": "code",
      "metadata": {
        "id": "ScG2pqfhSfeF",
        "colab_type": "code",
        "colab": {
          "base_uri": "https://localhost:8080/",
          "height": 34
        },
        "outputId": "c47fd314-5c36-49d1-a2e5-dcfc14cc1a67"
      },
      "source": [
        "print(\"The gradient of above function at x=1 is: {}\".format(x.grad))"
      ],
      "execution_count": 35,
      "outputs": [
        {
          "output_type": "stream",
          "text": [
            "The gradient of above function at x=1 is: 2.0\n"
          ],
          "name": "stdout"
        }
      ]
    },
    {
      "cell_type": "code",
      "metadata": {
        "id": "RY61Cu9aSrWj",
        "colab_type": "code",
        "colab": {
          "base_uri": "https://localhost:8080/",
          "height": 34
        },
        "outputId": "f2a55362-acd7-48da-9f45-dac0e4adba1d"
      },
      "source": [
        "print(\"The gradient of above funtion at y=2 is: {}\".format(y.grad))"
      ],
      "execution_count": 36,
      "outputs": [
        {
          "output_type": "stream",
          "text": [
            "The gradient of above funtion at y=2 is: 12.0\n"
          ],
          "name": "stdout"
        }
      ]
    },
    {
      "cell_type": "code",
      "metadata": {
        "id": "ZG_KUlA5StJL",
        "colab_type": "code",
        "colab": {}
      },
      "source": [
        ""
      ],
      "execution_count": 0,
      "outputs": []
    }
  ]
}